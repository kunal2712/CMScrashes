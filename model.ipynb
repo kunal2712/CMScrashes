{
 "cells": [
  {
   "attachments": {},
   "cell_type": "markdown",
   "metadata": {},
   "source": [
    "About the dataset"
   ]
  },
  {
   "attachments": {},
   "cell_type": "markdown",
   "metadata": {},
   "source": [
    "The goal is to predict climate model simulation outcomes (column 21, fail or succeed) given scaled values of\n",
    "climate model input parameters (columns 3-20).\n"
   ]
  },
  {
   "cell_type": "markdown",
   "metadata": {},
   "source": [
    "This dataset has 522 number of instances.\n",
    "Column 1: Latin hypercube study ID (study 1 to study 3)\n",
    "Column 2: simulation ID (run 1 to run 180)\n",
    "Columns 3-20: values of 18 climate model parameters scaled in the interval [0, 1]\n",
    "Column 21: simulation outcome (0 = failure, 1 = success)"
   ]
  },
  {
   "attachments": {},
   "cell_type": "markdown",
   "metadata": {},
   "source": [
    "DEPENDICIES"
   ]
  },
  {
   "cell_type": "code",
   "execution_count": 1,
   "metadata": {},
   "outputs": [],
   "source": [
    "import pandas as pd\n",
    "from sklearn.model_selection import train_test_split\n",
    "from sklearn.tree import DecisionTreeClassifier\n",
    "from sklearn.metrics import mean_absolute_error\n",
    "import matplotlib.pyplot as plt\n",
    "import seaborn as sns\n",
    "from sklearn.metrics import confusion_matrix, classification_report, accuracy_score\n",
    "from sklearn import model_selection\n",
    "\n"
   ]
  },
  {
   "attachments": {},
   "cell_type": "markdown",
   "metadata": {},
   "source": [
    "Loading the csv file and analysing different features"
   ]
  },
  {
   "cell_type": "code",
   "execution_count": 2,
   "metadata": {},
   "outputs": [
    {
     "data": {
      "text/html": [
       "<div>\n",
       "<style scoped>\n",
       "    .dataframe tbody tr th:only-of-type {\n",
       "        vertical-align: middle;\n",
       "    }\n",
       "\n",
       "    .dataframe tbody tr th {\n",
       "        vertical-align: top;\n",
       "    }\n",
       "\n",
       "    .dataframe thead th {\n",
       "        text-align: right;\n",
       "    }\n",
       "</style>\n",
       "<table border=\"1\" class=\"dataframe\">\n",
       "  <thead>\n",
       "    <tr style=\"text-align: right;\">\n",
       "      <th></th>\n",
       "      <th>Study</th>\n",
       "      <th>Run</th>\n",
       "      <th>vconst_corr</th>\n",
       "      <th>vconst_2</th>\n",
       "      <th>vconst_3</th>\n",
       "      <th>vconst_4</th>\n",
       "      <th>vconst_5</th>\n",
       "      <th>vconst_6</th>\n",
       "      <th>vconst_7</th>\n",
       "      <th>ah_corr</th>\n",
       "      <th>...</th>\n",
       "      <th>slm_corr</th>\n",
       "      <th>efficiency_factor</th>\n",
       "      <th>tidal_mix_max</th>\n",
       "      <th>vertical_decay_scale</th>\n",
       "      <th>convect_corr</th>\n",
       "      <th>bckgrnd_vdc1</th>\n",
       "      <th>bckgrnd_vdc_ban</th>\n",
       "      <th>bckgrnd_vdc_eq</th>\n",
       "      <th>bckgrnd_vdc_psim</th>\n",
       "      <th>outcome</th>\n",
       "    </tr>\n",
       "  </thead>\n",
       "  <tbody>\n",
       "    <tr>\n",
       "      <th>0</th>\n",
       "      <td>1</td>\n",
       "      <td>1</td>\n",
       "      <td>0.859036</td>\n",
       "      <td>0.927825</td>\n",
       "      <td>0.252866</td>\n",
       "      <td>0.298838</td>\n",
       "      <td>0.170521</td>\n",
       "      <td>0.735936</td>\n",
       "      <td>0.428325</td>\n",
       "      <td>0.567947</td>\n",
       "      <td>...</td>\n",
       "      <td>0.245675</td>\n",
       "      <td>0.104226</td>\n",
       "      <td>0.869091</td>\n",
       "      <td>0.997518</td>\n",
       "      <td>0.448620</td>\n",
       "      <td>0.307522</td>\n",
       "      <td>0.858310</td>\n",
       "      <td>0.796997</td>\n",
       "      <td>0.869893</td>\n",
       "      <td>0</td>\n",
       "    </tr>\n",
       "    <tr>\n",
       "      <th>1</th>\n",
       "      <td>1</td>\n",
       "      <td>2</td>\n",
       "      <td>0.606041</td>\n",
       "      <td>0.457728</td>\n",
       "      <td>0.359448</td>\n",
       "      <td>0.306957</td>\n",
       "      <td>0.843331</td>\n",
       "      <td>0.934851</td>\n",
       "      <td>0.444572</td>\n",
       "      <td>0.828015</td>\n",
       "      <td>...</td>\n",
       "      <td>0.616870</td>\n",
       "      <td>0.975786</td>\n",
       "      <td>0.914344</td>\n",
       "      <td>0.845247</td>\n",
       "      <td>0.864152</td>\n",
       "      <td>0.346713</td>\n",
       "      <td>0.356573</td>\n",
       "      <td>0.438447</td>\n",
       "      <td>0.512256</td>\n",
       "      <td>1</td>\n",
       "    </tr>\n",
       "    <tr>\n",
       "      <th>2</th>\n",
       "      <td>1</td>\n",
       "      <td>3</td>\n",
       "      <td>0.997600</td>\n",
       "      <td>0.373238</td>\n",
       "      <td>0.517399</td>\n",
       "      <td>0.504993</td>\n",
       "      <td>0.618903</td>\n",
       "      <td>0.605571</td>\n",
       "      <td>0.746225</td>\n",
       "      <td>0.195928</td>\n",
       "      <td>...</td>\n",
       "      <td>0.679355</td>\n",
       "      <td>0.803413</td>\n",
       "      <td>0.643995</td>\n",
       "      <td>0.718441</td>\n",
       "      <td>0.924775</td>\n",
       "      <td>0.315371</td>\n",
       "      <td>0.250642</td>\n",
       "      <td>0.285636</td>\n",
       "      <td>0.365858</td>\n",
       "      <td>1</td>\n",
       "    </tr>\n",
       "    <tr>\n",
       "      <th>3</th>\n",
       "      <td>1</td>\n",
       "      <td>4</td>\n",
       "      <td>0.783408</td>\n",
       "      <td>0.104055</td>\n",
       "      <td>0.197533</td>\n",
       "      <td>0.421837</td>\n",
       "      <td>0.742056</td>\n",
       "      <td>0.490828</td>\n",
       "      <td>0.005525</td>\n",
       "      <td>0.392123</td>\n",
       "      <td>...</td>\n",
       "      <td>0.471463</td>\n",
       "      <td>0.597879</td>\n",
       "      <td>0.761659</td>\n",
       "      <td>0.362751</td>\n",
       "      <td>0.912819</td>\n",
       "      <td>0.977971</td>\n",
       "      <td>0.845921</td>\n",
       "      <td>0.699431</td>\n",
       "      <td>0.475987</td>\n",
       "      <td>1</td>\n",
       "    </tr>\n",
       "    <tr>\n",
       "      <th>4</th>\n",
       "      <td>1</td>\n",
       "      <td>5</td>\n",
       "      <td>0.406250</td>\n",
       "      <td>0.513199</td>\n",
       "      <td>0.061812</td>\n",
       "      <td>0.635837</td>\n",
       "      <td>0.844798</td>\n",
       "      <td>0.441502</td>\n",
       "      <td>0.191926</td>\n",
       "      <td>0.487546</td>\n",
       "      <td>...</td>\n",
       "      <td>0.551543</td>\n",
       "      <td>0.743877</td>\n",
       "      <td>0.312349</td>\n",
       "      <td>0.650223</td>\n",
       "      <td>0.522261</td>\n",
       "      <td>0.043545</td>\n",
       "      <td>0.376660</td>\n",
       "      <td>0.280098</td>\n",
       "      <td>0.132283</td>\n",
       "      <td>1</td>\n",
       "    </tr>\n",
       "  </tbody>\n",
       "</table>\n",
       "<p>5 rows × 21 columns</p>\n",
       "</div>"
      ],
      "text/plain": [
       "   Study  Run  vconst_corr  vconst_2  vconst_3  vconst_4  vconst_5  vconst_6  \\\n",
       "0      1    1     0.859036  0.927825  0.252866  0.298838  0.170521  0.735936   \n",
       "1      1    2     0.606041  0.457728  0.359448  0.306957  0.843331  0.934851   \n",
       "2      1    3     0.997600  0.373238  0.517399  0.504993  0.618903  0.605571   \n",
       "3      1    4     0.783408  0.104055  0.197533  0.421837  0.742056  0.490828   \n",
       "4      1    5     0.406250  0.513199  0.061812  0.635837  0.844798  0.441502   \n",
       "\n",
       "   vconst_7   ah_corr  ...  slm_corr  efficiency_factor  tidal_mix_max  \\\n",
       "0  0.428325  0.567947  ...  0.245675           0.104226       0.869091   \n",
       "1  0.444572  0.828015  ...  0.616870           0.975786       0.914344   \n",
       "2  0.746225  0.195928  ...  0.679355           0.803413       0.643995   \n",
       "3  0.005525  0.392123  ...  0.471463           0.597879       0.761659   \n",
       "4  0.191926  0.487546  ...  0.551543           0.743877       0.312349   \n",
       "\n",
       "   vertical_decay_scale  convect_corr  bckgrnd_vdc1  bckgrnd_vdc_ban  \\\n",
       "0              0.997518      0.448620      0.307522         0.858310   \n",
       "1              0.845247      0.864152      0.346713         0.356573   \n",
       "2              0.718441      0.924775      0.315371         0.250642   \n",
       "3              0.362751      0.912819      0.977971         0.845921   \n",
       "4              0.650223      0.522261      0.043545         0.376660   \n",
       "\n",
       "   bckgrnd_vdc_eq  bckgrnd_vdc_psim  outcome  \n",
       "0        0.796997          0.869893        0  \n",
       "1        0.438447          0.512256        1  \n",
       "2        0.285636          0.365858        1  \n",
       "3        0.699431          0.475987        1  \n",
       "4        0.280098          0.132283        1  \n",
       "\n",
       "[5 rows x 21 columns]"
      ]
     },
     "execution_count": 2,
     "metadata": {},
     "output_type": "execute_result"
    }
   ],
   "source": [
    "crashes_data = pd.read_csv('crashesdata.csv')\n",
    "crashes_data.head()\n"
   ]
  },
  {
   "cell_type": "code",
   "execution_count": 3,
   "metadata": {},
   "outputs": [
    {
     "data": {
      "text/plain": [
       "(540, 21)"
      ]
     },
     "execution_count": 3,
     "metadata": {},
     "output_type": "execute_result"
    }
   ],
   "source": [
    "crashes_data.shape"
   ]
  },
  {
   "cell_type": "code",
   "execution_count": 4,
   "metadata": {},
   "outputs": [
    {
     "name": "stdout",
     "output_type": "stream",
     "text": [
      "<class 'pandas.core.frame.DataFrame'>\n",
      "RangeIndex: 540 entries, 0 to 539\n",
      "Data columns (total 21 columns):\n",
      " #   Column                Non-Null Count  Dtype  \n",
      "---  ------                --------------  -----  \n",
      " 0   Study                 540 non-null    int64  \n",
      " 1   Run                   540 non-null    int64  \n",
      " 2   vconst_corr           540 non-null    float64\n",
      " 3   vconst_2              540 non-null    float64\n",
      " 4   vconst_3              540 non-null    float64\n",
      " 5   vconst_4              540 non-null    float64\n",
      " 6   vconst_5              540 non-null    float64\n",
      " 7   vconst_6              540 non-null    float64\n",
      " 8   vconst_7              540 non-null    float64\n",
      " 9   ah_corr               540 non-null    float64\n",
      " 10  ah_bolus              540 non-null    float64\n",
      " 11  slm_corr              540 non-null    float64\n",
      " 12  efficiency_factor     540 non-null    float64\n",
      " 13  tidal_mix_max         540 non-null    float64\n",
      " 14  vertical_decay_scale  540 non-null    float64\n",
      " 15  convect_corr          540 non-null    float64\n",
      " 16  bckgrnd_vdc1          540 non-null    float64\n",
      " 17  bckgrnd_vdc_ban       540 non-null    float64\n",
      " 18  bckgrnd_vdc_eq        540 non-null    float64\n",
      " 19  bckgrnd_vdc_psim      540 non-null    float64\n",
      " 20  outcome               540 non-null    int64  \n",
      "dtypes: float64(18), int64(3)\n",
      "memory usage: 88.7 KB\n"
     ]
    }
   ],
   "source": [
    "crashes_data.info()"
   ]
  },
  {
   "attachments": {},
   "cell_type": "markdown",
   "metadata": {},
   "source": [
    "We can see all values are numnerical , no categorial values\n",
    "Lets check for missing values"
   ]
  },
  {
   "cell_type": "code",
   "execution_count": 5,
   "metadata": {},
   "outputs": [
    {
     "data": {
      "text/plain": [
       "Study                   0\n",
       "Run                     0\n",
       "vconst_corr             0\n",
       "vconst_2                0\n",
       "vconst_3                0\n",
       "vconst_4                0\n",
       "vconst_5                0\n",
       "vconst_6                0\n",
       "vconst_7                0\n",
       "ah_corr                 0\n",
       "ah_bolus                0\n",
       "slm_corr                0\n",
       "efficiency_factor       0\n",
       "tidal_mix_max           0\n",
       "vertical_decay_scale    0\n",
       "convect_corr            0\n",
       "bckgrnd_vdc1            0\n",
       "bckgrnd_vdc_ban         0\n",
       "bckgrnd_vdc_eq          0\n",
       "bckgrnd_vdc_psim        0\n",
       "outcome                 0\n",
       "dtype: int64"
      ]
     },
     "execution_count": 5,
     "metadata": {},
     "output_type": "execute_result"
    }
   ],
   "source": [
    "crashes_data.isnull().sum()"
   ]
  },
  {
   "cell_type": "code",
   "execution_count": 6,
   "metadata": {},
   "outputs": [
    {
     "data": {
      "text/html": [
       "<div>\n",
       "<style scoped>\n",
       "    .dataframe tbody tr th:only-of-type {\n",
       "        vertical-align: middle;\n",
       "    }\n",
       "\n",
       "    .dataframe tbody tr th {\n",
       "        vertical-align: top;\n",
       "    }\n",
       "\n",
       "    .dataframe thead th {\n",
       "        text-align: right;\n",
       "    }\n",
       "</style>\n",
       "<table border=\"1\" class=\"dataframe\">\n",
       "  <thead>\n",
       "    <tr style=\"text-align: right;\">\n",
       "      <th></th>\n",
       "      <th>Study</th>\n",
       "      <th>Run</th>\n",
       "      <th>vconst_corr</th>\n",
       "      <th>vconst_2</th>\n",
       "      <th>vconst_3</th>\n",
       "      <th>vconst_4</th>\n",
       "      <th>vconst_5</th>\n",
       "      <th>vconst_6</th>\n",
       "      <th>vconst_7</th>\n",
       "      <th>ah_corr</th>\n",
       "      <th>...</th>\n",
       "      <th>slm_corr</th>\n",
       "      <th>efficiency_factor</th>\n",
       "      <th>tidal_mix_max</th>\n",
       "      <th>vertical_decay_scale</th>\n",
       "      <th>convect_corr</th>\n",
       "      <th>bckgrnd_vdc1</th>\n",
       "      <th>bckgrnd_vdc_ban</th>\n",
       "      <th>bckgrnd_vdc_eq</th>\n",
       "      <th>bckgrnd_vdc_psim</th>\n",
       "      <th>outcome</th>\n",
       "    </tr>\n",
       "  </thead>\n",
       "  <tbody>\n",
       "    <tr>\n",
       "      <th>count</th>\n",
       "      <td>540.000000</td>\n",
       "      <td>540.000000</td>\n",
       "      <td>540.000000</td>\n",
       "      <td>540.000000</td>\n",
       "      <td>540.000000</td>\n",
       "      <td>540.000000</td>\n",
       "      <td>540.000000</td>\n",
       "      <td>540.000000</td>\n",
       "      <td>540.000000</td>\n",
       "      <td>540.000000</td>\n",
       "      <td>...</td>\n",
       "      <td>540.000000</td>\n",
       "      <td>540.000000</td>\n",
       "      <td>540.000000</td>\n",
       "      <td>540.000000</td>\n",
       "      <td>540.000000</td>\n",
       "      <td>540.000000</td>\n",
       "      <td>540.000000</td>\n",
       "      <td>540.000000</td>\n",
       "      <td>540.000000</td>\n",
       "      <td>540.000000</td>\n",
       "    </tr>\n",
       "    <tr>\n",
       "      <th>mean</th>\n",
       "      <td>2.000000</td>\n",
       "      <td>90.500000</td>\n",
       "      <td>0.500026</td>\n",
       "      <td>0.500097</td>\n",
       "      <td>0.500027</td>\n",
       "      <td>0.500119</td>\n",
       "      <td>0.500001</td>\n",
       "      <td>0.499913</td>\n",
       "      <td>0.500059</td>\n",
       "      <td>0.500076</td>\n",
       "      <td>...</td>\n",
       "      <td>0.500111</td>\n",
       "      <td>0.499984</td>\n",
       "      <td>0.500032</td>\n",
       "      <td>0.499933</td>\n",
       "      <td>0.499944</td>\n",
       "      <td>0.499946</td>\n",
       "      <td>0.500044</td>\n",
       "      <td>0.500020</td>\n",
       "      <td>0.500021</td>\n",
       "      <td>0.914815</td>\n",
       "    </tr>\n",
       "    <tr>\n",
       "      <th>std</th>\n",
       "      <td>0.817254</td>\n",
       "      <td>52.008901</td>\n",
       "      <td>0.288939</td>\n",
       "      <td>0.288922</td>\n",
       "      <td>0.289067</td>\n",
       "      <td>0.288993</td>\n",
       "      <td>0.288827</td>\n",
       "      <td>0.288852</td>\n",
       "      <td>0.289010</td>\n",
       "      <td>0.288909</td>\n",
       "      <td>...</td>\n",
       "      <td>0.288966</td>\n",
       "      <td>0.289127</td>\n",
       "      <td>0.289014</td>\n",
       "      <td>0.288822</td>\n",
       "      <td>0.288949</td>\n",
       "      <td>0.288923</td>\n",
       "      <td>0.288813</td>\n",
       "      <td>0.288936</td>\n",
       "      <td>0.289013</td>\n",
       "      <td>0.279416</td>\n",
       "    </tr>\n",
       "    <tr>\n",
       "      <th>min</th>\n",
       "      <td>1.000000</td>\n",
       "      <td>1.000000</td>\n",
       "      <td>0.000414</td>\n",
       "      <td>0.001922</td>\n",
       "      <td>0.001181</td>\n",
       "      <td>0.001972</td>\n",
       "      <td>0.000858</td>\n",
       "      <td>0.000476</td>\n",
       "      <td>0.004590</td>\n",
       "      <td>0.000296</td>\n",
       "      <td>...</td>\n",
       "      <td>0.002015</td>\n",
       "      <td>0.000419</td>\n",
       "      <td>0.001188</td>\n",
       "      <td>0.001312</td>\n",
       "      <td>0.002509</td>\n",
       "      <td>0.000732</td>\n",
       "      <td>0.000891</td>\n",
       "      <td>0.000219</td>\n",
       "      <td>0.000263</td>\n",
       "      <td>0.000000</td>\n",
       "    </tr>\n",
       "    <tr>\n",
       "      <th>25%</th>\n",
       "      <td>1.000000</td>\n",
       "      <td>45.750000</td>\n",
       "      <td>0.249650</td>\n",
       "      <td>0.251597</td>\n",
       "      <td>0.251540</td>\n",
       "      <td>0.250158</td>\n",
       "      <td>0.250630</td>\n",
       "      <td>0.251325</td>\n",
       "      <td>0.253048</td>\n",
       "      <td>0.250402</td>\n",
       "      <td>...</td>\n",
       "      <td>0.250758</td>\n",
       "      <td>0.251676</td>\n",
       "      <td>0.249669</td>\n",
       "      <td>0.249988</td>\n",
       "      <td>0.249586</td>\n",
       "      <td>0.249974</td>\n",
       "      <td>0.250412</td>\n",
       "      <td>0.252739</td>\n",
       "      <td>0.249723</td>\n",
       "      <td>1.000000</td>\n",
       "    </tr>\n",
       "    <tr>\n",
       "      <th>50%</th>\n",
       "      <td>2.000000</td>\n",
       "      <td>90.500000</td>\n",
       "      <td>0.499998</td>\n",
       "      <td>0.499595</td>\n",
       "      <td>0.500104</td>\n",
       "      <td>0.500456</td>\n",
       "      <td>0.500903</td>\n",
       "      <td>0.499174</td>\n",
       "      <td>0.499070</td>\n",
       "      <td>0.500074</td>\n",
       "      <td>...</td>\n",
       "      <td>0.500393</td>\n",
       "      <td>0.500322</td>\n",
       "      <td>0.500151</td>\n",
       "      <td>0.500625</td>\n",
       "      <td>0.499080</td>\n",
       "      <td>0.499959</td>\n",
       "      <td>0.500384</td>\n",
       "      <td>0.498955</td>\n",
       "      <td>0.499431</td>\n",
       "      <td>1.000000</td>\n",
       "    </tr>\n",
       "    <tr>\n",
       "      <th>75%</th>\n",
       "      <td>3.000000</td>\n",
       "      <td>135.250000</td>\n",
       "      <td>0.750042</td>\n",
       "      <td>0.750011</td>\n",
       "      <td>0.749180</td>\n",
       "      <td>0.750348</td>\n",
       "      <td>0.748988</td>\n",
       "      <td>0.748166</td>\n",
       "      <td>0.750109</td>\n",
       "      <td>0.749091</td>\n",
       "      <td>...</td>\n",
       "      <td>0.749447</td>\n",
       "      <td>0.749346</td>\n",
       "      <td>0.749164</td>\n",
       "      <td>0.749569</td>\n",
       "      <td>0.750012</td>\n",
       "      <td>0.747978</td>\n",
       "      <td>0.749256</td>\n",
       "      <td>0.748539</td>\n",
       "      <td>0.749792</td>\n",
       "      <td>1.000000</td>\n",
       "    </tr>\n",
       "    <tr>\n",
       "      <th>max</th>\n",
       "      <td>3.000000</td>\n",
       "      <td>180.000000</td>\n",
       "      <td>0.999194</td>\n",
       "      <td>0.998815</td>\n",
       "      <td>0.998263</td>\n",
       "      <td>0.997673</td>\n",
       "      <td>0.998944</td>\n",
       "      <td>0.997142</td>\n",
       "      <td>0.998930</td>\n",
       "      <td>0.998506</td>\n",
       "      <td>...</td>\n",
       "      <td>0.999536</td>\n",
       "      <td>0.999942</td>\n",
       "      <td>0.997718</td>\n",
       "      <td>0.997518</td>\n",
       "      <td>0.999795</td>\n",
       "      <td>0.999155</td>\n",
       "      <td>0.997265</td>\n",
       "      <td>0.999306</td>\n",
       "      <td>0.999655</td>\n",
       "      <td>1.000000</td>\n",
       "    </tr>\n",
       "  </tbody>\n",
       "</table>\n",
       "<p>8 rows × 21 columns</p>\n",
       "</div>"
      ],
      "text/plain": [
       "            Study         Run  vconst_corr    vconst_2    vconst_3  \\\n",
       "count  540.000000  540.000000   540.000000  540.000000  540.000000   \n",
       "mean     2.000000   90.500000     0.500026    0.500097    0.500027   \n",
       "std      0.817254   52.008901     0.288939    0.288922    0.289067   \n",
       "min      1.000000    1.000000     0.000414    0.001922    0.001181   \n",
       "25%      1.000000   45.750000     0.249650    0.251597    0.251540   \n",
       "50%      2.000000   90.500000     0.499998    0.499595    0.500104   \n",
       "75%      3.000000  135.250000     0.750042    0.750011    0.749180   \n",
       "max      3.000000  180.000000     0.999194    0.998815    0.998263   \n",
       "\n",
       "         vconst_4    vconst_5    vconst_6    vconst_7     ah_corr  ...  \\\n",
       "count  540.000000  540.000000  540.000000  540.000000  540.000000  ...   \n",
       "mean     0.500119    0.500001    0.499913    0.500059    0.500076  ...   \n",
       "std      0.288993    0.288827    0.288852    0.289010    0.288909  ...   \n",
       "min      0.001972    0.000858    0.000476    0.004590    0.000296  ...   \n",
       "25%      0.250158    0.250630    0.251325    0.253048    0.250402  ...   \n",
       "50%      0.500456    0.500903    0.499174    0.499070    0.500074  ...   \n",
       "75%      0.750348    0.748988    0.748166    0.750109    0.749091  ...   \n",
       "max      0.997673    0.998944    0.997142    0.998930    0.998506  ...   \n",
       "\n",
       "         slm_corr  efficiency_factor  tidal_mix_max  vertical_decay_scale  \\\n",
       "count  540.000000         540.000000     540.000000            540.000000   \n",
       "mean     0.500111           0.499984       0.500032              0.499933   \n",
       "std      0.288966           0.289127       0.289014              0.288822   \n",
       "min      0.002015           0.000419       0.001188              0.001312   \n",
       "25%      0.250758           0.251676       0.249669              0.249988   \n",
       "50%      0.500393           0.500322       0.500151              0.500625   \n",
       "75%      0.749447           0.749346       0.749164              0.749569   \n",
       "max      0.999536           0.999942       0.997718              0.997518   \n",
       "\n",
       "       convect_corr  bckgrnd_vdc1  bckgrnd_vdc_ban  bckgrnd_vdc_eq  \\\n",
       "count    540.000000    540.000000       540.000000      540.000000   \n",
       "mean       0.499944      0.499946         0.500044        0.500020   \n",
       "std        0.288949      0.288923         0.288813        0.288936   \n",
       "min        0.002509      0.000732         0.000891        0.000219   \n",
       "25%        0.249586      0.249974         0.250412        0.252739   \n",
       "50%        0.499080      0.499959         0.500384        0.498955   \n",
       "75%        0.750012      0.747978         0.749256        0.748539   \n",
       "max        0.999795      0.999155         0.997265        0.999306   \n",
       "\n",
       "       bckgrnd_vdc_psim     outcome  \n",
       "count        540.000000  540.000000  \n",
       "mean           0.500021    0.914815  \n",
       "std            0.289013    0.279416  \n",
       "min            0.000263    0.000000  \n",
       "25%            0.249723    1.000000  \n",
       "50%            0.499431    1.000000  \n",
       "75%            0.749792    1.000000  \n",
       "max            0.999655    1.000000  \n",
       "\n",
       "[8 rows x 21 columns]"
      ]
     },
     "execution_count": 6,
     "metadata": {},
     "output_type": "execute_result"
    }
   ],
   "source": [
    "crashes_data.describe()"
   ]
  },
  {
   "attachments": {},
   "cell_type": "markdown",
   "metadata": {},
   "source": [
    "Since no categorial or missing values are present \n",
    "We can proceed with the splitting of features"
   ]
  },
  {
   "cell_type": "code",
   "execution_count": 7,
   "metadata": {},
   "outputs": [],
   "source": [
    "x = crashes_data.drop(columns=['outcome'])\n",
    "y = crashes_data['outcome']"
   ]
  },
  {
   "cell_type": "code",
   "execution_count": 8,
   "metadata": {},
   "outputs": [
    {
     "name": "stdout",
     "output_type": "stream",
     "text": [
      "   Study  Run  vconst_corr  vconst_2  vconst_3  vconst_4  vconst_5  vconst_6  \\\n",
      "0      1    1     0.859036  0.927825  0.252866  0.298838  0.170521  0.735936   \n",
      "1      1    2     0.606041  0.457728  0.359448  0.306957  0.843331  0.934851   \n",
      "2      1    3     0.997600  0.373238  0.517399  0.504993  0.618903  0.605571   \n",
      "3      1    4     0.783408  0.104055  0.197533  0.421837  0.742056  0.490828   \n",
      "4      1    5     0.406250  0.513199  0.061812  0.635837  0.844798  0.441502   \n",
      "\n",
      "   vconst_7   ah_corr  ah_bolus  slm_corr  efficiency_factor  tidal_mix_max  \\\n",
      "0  0.428325  0.567947  0.474370  0.245675           0.104226       0.869091   \n",
      "1  0.444572  0.828015  0.296618  0.616870           0.975786       0.914344   \n",
      "2  0.746225  0.195928  0.815667  0.679355           0.803413       0.643995   \n",
      "3  0.005525  0.392123  0.010015  0.471463           0.597879       0.761659   \n",
      "4  0.191926  0.487546  0.358534  0.551543           0.743877       0.312349   \n",
      "\n",
      "   vertical_decay_scale  convect_corr  bckgrnd_vdc1  bckgrnd_vdc_ban  \\\n",
      "0              0.997518      0.448620      0.307522         0.858310   \n",
      "1              0.845247      0.864152      0.346713         0.356573   \n",
      "2              0.718441      0.924775      0.315371         0.250642   \n",
      "3              0.362751      0.912819      0.977971         0.845921   \n",
      "4              0.650223      0.522261      0.043545         0.376660   \n",
      "\n",
      "   bckgrnd_vdc_eq  bckgrnd_vdc_psim  \n",
      "0        0.796997          0.869893  \n",
      "1        0.438447          0.512256  \n",
      "2        0.285636          0.365858  \n",
      "3        0.699431          0.475987  \n",
      "4        0.280098          0.132283  \n",
      "0    0\n",
      "1    1\n",
      "2    1\n",
      "3    1\n",
      "4    1\n",
      "Name: outcome, dtype: int64\n"
     ]
    }
   ],
   "source": [
    "print(x.head())\n",
    "print(y.head())"
   ]
  },
  {
   "attachments": {},
   "cell_type": "markdown",
   "metadata": {},
   "source": [
    "Splitting into training and testing data"
   ]
  },
  {
   "cell_type": "code",
   "execution_count": 9,
   "metadata": {},
   "outputs": [],
   "source": [
    "x_train , x_test , y_train , y_test = train_test_split(x,y,test_size=0.2,random_state=1)"
   ]
  },
  {
   "cell_type": "code",
   "execution_count": 10,
   "metadata": {},
   "outputs": [
    {
     "name": "stdout",
     "output_type": "stream",
     "text": [
      "(540, 20) (432, 20) (108, 20)\n"
     ]
    }
   ],
   "source": [
    "print(x.shape, x_train.shape , x_test.shape)"
   ]
  },
  {
   "cell_type": "code",
   "execution_count": 11,
   "metadata": {},
   "outputs": [],
   "source": [
    "import numpy as np\n",
    "from sklearn.model_selection import StratifiedKFold\n",
    "# class label proportions are reserved\n",
    "kfold = StratifiedKFold(n_splits=10).split(x_train,y_train)"
   ]
  },
  {
   "cell_type": "code",
   "execution_count": 37,
   "metadata": {},
   "outputs": [
    {
     "name": "stdout",
     "output_type": "stream",
     "text": [
      "                             Study           Run  vconst_corr  vconst_2  \\\n",
      "Study                 1.000000e+00  1.034649e-15    -0.000397  0.000307   \n",
      "Run                   1.034649e-15  1.000000e+00    -0.034414 -0.058644   \n",
      "vconst_corr          -3.970866e-04 -3.441408e-02     1.000000  0.004039   \n",
      "vconst_2              3.067568e-04 -5.864436e-02     0.004039  1.000000   \n",
      "vconst_3             -5.213985e-04 -1.838657e-02     0.009331 -0.000456   \n",
      "vconst_4              2.424574e-04 -2.113392e-02    -0.018294 -0.000614   \n",
      "vconst_5             -8.609083e-05 -4.297164e-02     0.018880 -0.008292   \n",
      "vconst_6             -4.308863e-04 -4.013435e-02     0.001544 -0.024379   \n",
      "vconst_7              2.542364e-04 -3.914892e-02     0.003714 -0.005182   \n",
      "ah_corr               5.095786e-05 -9.447464e-02    -0.012735  0.004179   \n",
      "ah_bolus             -1.413784e-04  1.182900e-02     0.002336 -0.013860   \n",
      "slm_corr              3.906480e-04  8.021661e-02     0.010617 -0.011072   \n",
      "efficiency_factor    -5.225909e-05 -3.172296e-03    -0.014205  0.019706   \n",
      "tidal_mix_max        -1.051162e-04 -4.844263e-02    -0.008992  0.001623   \n",
      "vertical_decay_scale -2.247354e-04 -6.825149e-02    -0.002980  0.002608   \n",
      "convect_corr          5.437296e-04 -4.761133e-02    -0.002133 -0.014716   \n",
      "bckgrnd_vdc1         -1.240233e-04  4.569397e-02    -0.002099  0.004386   \n",
      "bckgrnd_vdc_ban      -9.020752e-07 -1.059208e-01     0.015973  0.005999   \n",
      "bckgrnd_vdc_eq       -2.803497e-04 -1.495256e-02    -0.016631  0.004202   \n",
      "bckgrnd_vdc_psim      1.803476e-04  3.966066e-02    -0.001467  0.009141   \n",
      "outcome               4.874774e-02 -1.391582e-02    -0.304787 -0.302388   \n",
      "\n",
      "                      vconst_3  vconst_4  vconst_5  vconst_6  vconst_7  \\\n",
      "Study                -0.000521  0.000242 -0.000086 -0.000431  0.000254   \n",
      "Run                  -0.018387 -0.021134 -0.042972 -0.040134 -0.039149   \n",
      "vconst_corr           0.009331 -0.018294  0.018880  0.001544  0.003714   \n",
      "vconst_2             -0.000456 -0.000614 -0.008292 -0.024379 -0.005182   \n",
      "vconst_3              1.000000  0.009899  0.006289 -0.001587  0.019941   \n",
      "vconst_4              0.009899  1.000000  0.020504  0.021931  0.001805   \n",
      "vconst_5              0.006289  0.020504  1.000000  0.005887 -0.003047   \n",
      "vconst_6             -0.001587  0.021931  0.005887  1.000000 -0.016770   \n",
      "vconst_7              0.019941  0.001805 -0.003047 -0.016770  1.000000   \n",
      "ah_corr               0.004402 -0.002334  0.012453 -0.021644 -0.035498   \n",
      "ah_bolus             -0.007695 -0.001731  0.003634  0.001244 -0.005119   \n",
      "slm_corr              0.007100 -0.004753  0.001077  0.015121  0.009604   \n",
      "efficiency_factor    -0.009428  0.018320  0.021354  0.000075 -0.006832   \n",
      "tidal_mix_max        -0.024702 -0.010004 -0.016312  0.015288  0.016503   \n",
      "vertical_decay_scale -0.020637 -0.006762  0.021380  0.007036  0.002921   \n",
      "convect_corr         -0.004264  0.020442  0.009894 -0.003641  0.012447   \n",
      "bckgrnd_vdc1         -0.005210 -0.001080 -0.019179 -0.007897 -0.003368   \n",
      "bckgrnd_vdc_ban      -0.000559 -0.009262 -0.020752 -0.006576  0.007051   \n",
      "bckgrnd_vdc_eq        0.004771 -0.017147 -0.009324  0.013203  0.002443   \n",
      "bckgrnd_vdc_psim     -0.001334  0.005053  0.012265  0.008412 -0.002381   \n",
      "outcome               0.000227  0.072297  0.054390  0.048646  0.017049   \n",
      "\n",
      "                       ah_corr  ...  slm_corr  efficiency_factor  \\\n",
      "Study                 0.000051  ...  0.000391          -0.000052   \n",
      "Run                  -0.094475  ...  0.080217          -0.003172   \n",
      "vconst_corr          -0.012735  ...  0.010617          -0.014205   \n",
      "vconst_2              0.004179  ... -0.011072           0.019706   \n",
      "vconst_3              0.004402  ...  0.007100          -0.009428   \n",
      "vconst_4             -0.002334  ... -0.004753           0.018320   \n",
      "vconst_5              0.012453  ...  0.001077           0.021354   \n",
      "vconst_6             -0.021644  ...  0.015121           0.000075   \n",
      "vconst_7             -0.035498  ...  0.009604          -0.006832   \n",
      "ah_corr               1.000000  ...  0.012260           0.012005   \n",
      "ah_bolus             -0.009403  ...  0.008760           0.002575   \n",
      "slm_corr              0.012260  ...  1.000000          -0.017926   \n",
      "efficiency_factor     0.012005  ... -0.017926           1.000000   \n",
      "tidal_mix_max        -0.003947  ...  0.018009          -0.004328   \n",
      "vertical_decay_scale -0.019307  ...  0.011925           0.002345   \n",
      "convect_corr         -0.010642  ... -0.034026          -0.001686   \n",
      "bckgrnd_vdc1          0.004866  ...  0.003393           0.017618   \n",
      "bckgrnd_vdc_ban       0.032398  ...  0.009925          -0.009566   \n",
      "bckgrnd_vdc_eq        0.000259  ... -0.005241          -0.002261   \n",
      "bckgrnd_vdc_psim      0.007055  ... -0.004465          -0.011913   \n",
      "outcome               0.003895  ... -0.032364          -0.015071   \n",
      "\n",
      "                      tidal_mix_max  vertical_decay_scale  convect_corr  \\\n",
      "Study                     -0.000105             -0.000225      0.000544   \n",
      "Run                       -0.048443             -0.068251     -0.047611   \n",
      "vconst_corr               -0.008992             -0.002980     -0.002133   \n",
      "vconst_2                   0.001623              0.002608     -0.014716   \n",
      "vconst_3                  -0.024702             -0.020637     -0.004264   \n",
      "vconst_4                  -0.010004             -0.006762      0.020442   \n",
      "vconst_5                  -0.016312              0.021380      0.009894   \n",
      "vconst_6                   0.015288              0.007036     -0.003641   \n",
      "vconst_7                   0.016503              0.002921      0.012447   \n",
      "ah_corr                   -0.003947             -0.019307     -0.010642   \n",
      "ah_bolus                   0.002272              0.002633     -0.003043   \n",
      "slm_corr                   0.018009              0.011925     -0.034026   \n",
      "efficiency_factor         -0.004328              0.002345     -0.001686   \n",
      "tidal_mix_max              1.000000              0.010967     -0.008100   \n",
      "vertical_decay_scale       0.010967              1.000000     -0.007047   \n",
      "convect_corr              -0.008100             -0.007047      1.000000   \n",
      "bckgrnd_vdc1              -0.001098             -0.013650      0.000301   \n",
      "bckgrnd_vdc_ban            0.007050             -0.016533      0.010098   \n",
      "bckgrnd_vdc_eq            -0.015984              0.006300      0.005816   \n",
      "bckgrnd_vdc_psim           0.006292             -0.005098     -0.002880   \n",
      "outcome                   -0.045862             -0.192893      0.184218   \n",
      "\n",
      "                      bckgrnd_vdc1  bckgrnd_vdc_ban  bckgrnd_vdc_eq  \\\n",
      "Study                    -0.000124    -9.020752e-07       -0.000280   \n",
      "Run                       0.045694    -1.059208e-01       -0.014953   \n",
      "vconst_corr              -0.002099     1.597279e-02       -0.016631   \n",
      "vconst_2                  0.004386     5.998563e-03        0.004202   \n",
      "vconst_3                 -0.005210    -5.588027e-04        0.004771   \n",
      "vconst_4                 -0.001080    -9.261710e-03       -0.017147   \n",
      "vconst_5                 -0.019179    -2.075219e-02       -0.009324   \n",
      "vconst_6                 -0.007897    -6.575539e-03        0.013203   \n",
      "vconst_7                 -0.003368     7.050740e-03        0.002443   \n",
      "ah_corr                   0.004866     3.239789e-02        0.000259   \n",
      "ah_bolus                  0.006023    -8.446854e-03       -0.002301   \n",
      "slm_corr                  0.003393     9.924829e-03       -0.005241   \n",
      "efficiency_factor         0.017618    -9.566276e-03       -0.002261   \n",
      "tidal_mix_max            -0.001098     7.049969e-03       -0.015984   \n",
      "vertical_decay_scale     -0.013650    -1.653285e-02        0.006300   \n",
      "convect_corr              0.000301     1.009844e-02        0.005816   \n",
      "bckgrnd_vdc1              1.000000    -1.924714e-03        0.016344   \n",
      "bckgrnd_vdc_ban          -0.001925     1.000000e+00        0.019125   \n",
      "bckgrnd_vdc_eq            0.016344     1.912533e-02        1.000000   \n",
      "bckgrnd_vdc_psim          0.003774    -8.064785e-04        0.012767   \n",
      "outcome                  -0.028365     7.850443e-02        0.057684   \n",
      "\n",
      "                      bckgrnd_vdc_psim   outcome  \n",
      "Study                         0.000180  0.048748  \n",
      "Run                           0.039661 -0.013916  \n",
      "vconst_corr                  -0.001467 -0.304787  \n",
      "vconst_2                      0.009141 -0.302388  \n",
      "vconst_3                     -0.001334  0.000227  \n",
      "vconst_4                      0.005053  0.072297  \n",
      "vconst_5                      0.012265  0.054390  \n",
      "vconst_6                      0.008412  0.048646  \n",
      "vconst_7                     -0.002381  0.017049  \n",
      "ah_corr                       0.007055  0.003895  \n",
      "ah_bolus                      0.014281  0.048864  \n",
      "slm_corr                     -0.004465 -0.032364  \n",
      "efficiency_factor            -0.011913 -0.015071  \n",
      "tidal_mix_max                 0.006292 -0.045862  \n",
      "vertical_decay_scale         -0.005098 -0.192893  \n",
      "convect_corr                 -0.002880  0.184218  \n",
      "bckgrnd_vdc1                  0.003774 -0.028365  \n",
      "bckgrnd_vdc_ban              -0.000806  0.078504  \n",
      "bckgrnd_vdc_eq                0.012767  0.057684  \n",
      "bckgrnd_vdc_psim              1.000000 -0.026942  \n",
      "outcome                      -0.026942  1.000000  \n",
      "\n",
      "[21 rows x 21 columns]\n"
     ]
    },
    {
     "data": {
      "image/png": "[encoded data removed]",
      "text/plain": [
       "<Figure size 432x288 with 2 Axes>"
      ]
     },
     "metadata": {
      "needs_background": "light"
     },
     "output_type": "display_data"
    }
   ],
   "source": [
    "import matplotlib.pyplot as mp\n",
    "import seaborn as sb\n",
    "\n",
    "print(crashes_data.corr())\n",
    "dataplot = sb.heatmap(crashes_data.corr())\n",
    "mp.show()"
   ]
  },
  {
   "attachments": {},
   "cell_type": "markdown",
   "metadata": {},
   "source": [
    "Training the Decision tree model using traning set"
   ]
  },
  {
   "cell_type": "code",
   "execution_count": 12,
   "metadata": {},
   "outputs": [
    {
     "data": {
      "text/html": [
       "<style>#sk-container-id-1 {color: black;background-color: white;}#sk-container-id-1 pre{padding: 0;}#sk-container-id-1 div.sk-toggleable {background-color: white;}#sk-container-id-1 label.sk-toggleable__label {cursor: pointer;display: block;width: 100%;margin-bottom: 0;padding: 0.3em;box-sizing: border-box;text-align: center;}#sk-container-id-1 label.sk-toggleable__label-arrow:before {content: \"▸\";float: left;margin-right: 0.25em;color: #696969;}#sk-container-id-1 label.sk-toggleable__label-arrow:hover:before {color: black;}#sk-container-id-1 div.sk-estimator:hover label.sk-toggleable__label-arrow:before {color: black;}#sk-container-id-1 div.sk-toggleable__content {max-height: 0;max-width: 0;overflow: hidden;text-align: left;background-color: #f0f8ff;}#sk-container-id-1 div.sk-toggleable__content pre {margin: 0.2em;color: black;border-radius: 0.25em;background-color: #f0f8ff;}#sk-container-id-1 input.sk-toggleable__control:checked~div.sk-toggleable__content {max-height: 200px;max-width: 100%;overflow: auto;}#sk-container-id-1 input.sk-toggleable__control:checked~label.sk-toggleable__label-arrow:before {content: \"▾\";}#sk-container-id-1 div.sk-estimator input.sk-toggleable__control:checked~label.sk-toggleable__label {background-color: #d4ebff;}#sk-container-id-1 div.sk-label input.sk-toggleable__control:checked~label.sk-toggleable__label {background-color: #d4ebff;}#sk-container-id-1 input.sk-hidden--visually {border: 0;clip: rect(1px 1px 1px 1px);clip: rect(1px, 1px, 1px, 1px);height: 1px;margin: -1px;overflow: hidden;padding: 0;position: absolute;width: 1px;}#sk-container-id-1 div.sk-estimator {font-family: monospace;background-color: #f0f8ff;border: 1px dotted black;border-radius: 0.25em;box-sizing: border-box;margin-bottom: 0.5em;}#sk-container-id-1 div.sk-estimator:hover {background-color: #d4ebff;}#sk-container-id-1 div.sk-parallel-item::after {content: \"\";width: 100%;border-bottom: 1px solid gray;flex-grow: 1;}#sk-container-id-1 div.sk-label:hover label.sk-toggleable__label {background-color: #d4ebff;}#sk-container-id-1 div.sk-serial::before {content: \"\";position: absolute;border-left: 1px solid gray;box-sizing: border-box;top: 0;bottom: 0;left: 50%;z-index: 0;}#sk-container-id-1 div.sk-serial {display: flex;flex-direction: column;align-items: center;background-color: white;padding-right: 0.2em;padding-left: 0.2em;position: relative;}#sk-container-id-1 div.sk-item {position: relative;z-index: 1;}#sk-container-id-1 div.sk-parallel {display: flex;align-items: stretch;justify-content: center;background-color: white;position: relative;}#sk-container-id-1 div.sk-item::before, #sk-container-id-1 div.sk-parallel-item::before {content: \"\";position: absolute;border-left: 1px solid gray;box-sizing: border-box;top: 0;bottom: 0;left: 50%;z-index: -1;}#sk-container-id-1 div.sk-parallel-item {display: flex;flex-direction: column;z-index: 1;position: relative;background-color: white;}#sk-container-id-1 div.sk-parallel-item:first-child::after {align-self: flex-end;width: 50%;}#sk-container-id-1 div.sk-parallel-item:last-child::after {align-self: flex-start;width: 50%;}#sk-container-id-1 div.sk-parallel-item:only-child::after {width: 0;}#sk-container-id-1 div.sk-dashed-wrapped {border: 1px dashed gray;margin: 0 0.4em 0.5em 0.4em;box-sizing: border-box;padding-bottom: 0.4em;background-color: white;}#sk-container-id-1 div.sk-label label {font-family: monospace;font-weight: bold;display: inline-block;line-height: 1.2em;}#sk-container-id-1 div.sk-label-container {text-align: center;}#sk-container-id-1 div.sk-container {/* jupyter's `normalize.less` sets `[hidden] { display: none; }` but bootstrap.min.css set `[hidden] { display: none !important; }` so we also need the `!important` here to be able to override the default hidden behavior on the sphinx rendered scikit-learn.org. See: https://github.com/scikit-learn/scikit-learn/issues/21755 */display: inline-block !important;position: relative;}#sk-container-id-1 div.sk-text-repr-fallback {display: none;}</style><div id=\"sk-container-id-1\" class=\"sk-top-container\"><div class=\"sk-text-repr-fallback\"><pre>DecisionTreeClassifier()</pre><b>In a Jupyter environment, please rerun this cell to show the HTML representation or trust the notebook. <br />On GitHub, the HTML representation is unable to render, please try loading this page with nbviewer.org.</b></div><div class=\"sk-container\" hidden><div class=\"sk-item\"><div class=\"sk-estimator sk-toggleable\"><input class=\"sk-toggleable__control sk-hidden--visually\" id=\"sk-estimator-id-1\" type=\"checkbox\" checked><label for=\"sk-estimator-id-1\" class=\"sk-toggleable__label sk-toggleable__label-arrow\">DecisionTreeClassifier</label><div class=\"sk-toggleable__content\"><pre>DecisionTreeClassifier()</pre></div></div></div></div></div>"
      ],
      "text/plain": [
       "DecisionTreeClassifier()"
      ]
     },
     "execution_count": 12,
     "metadata": {},
     "output_type": "execute_result"
    }
   ],
   "source": [
    "model_dt = DecisionTreeClassifier()\n",
    "model_dt.fit(x_train,y_train)\n"
   ]
  },
  {
   "attachments": {},
   "cell_type": "markdown",
   "metadata": {},
   "source": [
    "Testing our model by making predictions on testing set and analysing the result using accuracy criteria"
   ]
  },
  {
   "cell_type": "code",
   "execution_count": 13,
   "metadata": {},
   "outputs": [
    {
     "name": "stdout",
     "output_type": "stream",
     "text": [
      "Decision tree accuracy: 82%\n"
     ]
    }
   ],
   "source": [
    "predictions = model_dt.predict(x_test)\n",
    "accuracy_dt = (accuracy_score(y_test,predictions))\n",
    "print(f\"Decision tree accuracy: {round(accuracy_dt * 100)}%\") "
   ]
  },
  {
   "attachments": {},
   "cell_type": "markdown",
   "metadata": {},
   "source": [
    "Defining a get mean absolute error function to find the best value of number of nodes."
   ]
  },
  {
   "cell_type": "code",
   "execution_count": 14,
   "metadata": {},
   "outputs": [],
   "source": [
    "def get_mae(max_leaf_nodes , train_X , val_X, train_y, val_y):\n",
    "    model = DecisionTreeClassifier(max_leaf_nodes=max_leaf_nodes , random_state=0)\n",
    "    model.fit(train_X,train_y)\n",
    "    preds_value = model.predict(val_X)\n",
    "    mae = mean_absolute_error(val_y,preds_value)\n",
    "    return (mae)"
   ]
  },
  {
   "cell_type": "code",
   "execution_count": 15,
   "metadata": {},
   "outputs": [
    {
     "name": "stdout",
     "output_type": "stream",
     "text": [
      "5\n",
      "0.05555555555555555\n",
      "0.9444444444444444\n"
     ]
    }
   ],
   "source": [
    "candidate_nodes = [8,10,5,9,15] #random values of nodes to check from\n",
    "scores = {leaf_size : get_mae(leaf_size,x_train , x_test, y_train, y_test) for leaf_size in candidate_nodes}\n",
    "best_tree_size = min(scores,key=scores.get)\n",
    "print(best_tree_size)\n",
    "\n",
    "best_model = DecisionTreeClassifier(max_leaf_nodes = best_tree_size)\n",
    "best_model.fit(x,y) # since we know the best size , we can work upon the whole dataset\n",
    "val_preds = best_model.predict(x_test )\n",
    "print(mean_absolute_error(y_test,val_preds)) #minimum absolute error\n",
    "best_dt_accuracy = accuracy_score(y_test,val_preds)\n",
    "print(best_dt_accuracy)"
   ]
  },
  {
   "attachments": {},
   "cell_type": "markdown",
   "metadata": {},
   "source": [
    "Gradual increase of 10 percent in accuracy after getting the ideal value of number of leaf nodes"
   ]
  },
  {
   "attachments": {},
   "cell_type": "markdown",
   "metadata": {},
   "source": [
    "Confusion Matrix"
   ]
  },
  {
   "cell_type": "code",
   "execution_count": 16,
   "metadata": {},
   "outputs": [
    {
     "data": {
      "image/png": "[encoded data removed]",
      "text/plain": [
       "<Figure size 720x504 with 2 Axes>"
      ]
     },
     "metadata": {
      "needs_background": "light"
     },
     "output_type": "display_data"
    }
   ],
   "source": [
    "def plot_confusion_matrix(y_test, predictions):  \n",
    "    conf_mat = pd.DataFrame(confusion_matrix(y_test, predictions))  \n",
    "    fig = plt.figure(figsize=(10, 7))  \n",
    "    sns.heatmap(conf_mat, annot=True, annot_kws={\"size\": 16}, fmt=\"g\")  \n",
    "    plt.title(\"Confusion Matrix\")  \n",
    "    plt.xlabel(\"Predicted Label\")  \n",
    "    plt.ylabel(\"True Label\")  \n",
    "    plt.show()  \n",
    "   \n",
    "plot_confusion_matrix(y_test, val_preds) "
   ]
  },
  {
   "attachments": {},
   "cell_type": "markdown",
   "metadata": {},
   "source": [
    "Print the precision, recall and f1-scores "
   ]
  },
  {
   "cell_type": "code",
   "execution_count": 17,
   "metadata": {},
   "outputs": [
    {
     "name": "stdout",
     "output_type": "stream",
     "text": [
      "              precision    recall  f1-score   support\n",
      "\n",
      "           0       0.13      0.25      0.17         8\n",
      "           1       0.94      0.87      0.90       100\n",
      "\n",
      "    accuracy                           0.82       108\n",
      "   macro avg       0.53      0.56      0.54       108\n",
      "weighted avg       0.88      0.82      0.85       108\n",
      "\n"
     ]
    }
   ],
   "source": [
    "print(classification_report(y_test, predictions))"
   ]
  },
  {
   "attachments": {},
   "cell_type": "markdown",
   "metadata": {},
   "source": [
    "Pipelining XGboost classifier"
   ]
  },
  {
   "cell_type": "code",
   "execution_count": 18,
   "metadata": {},
   "outputs": [
    {
     "name": "stdout",
     "output_type": "stream",
     "text": [
      "Test Accuracy: 0.907\n"
     ]
    }
   ],
   "source": [
    "from sklearn.preprocessing import StandardScaler\n",
    "from sklearn.impute import SimpleImputer\n",
    "from sklearn.decomposition import PCA\n",
    "from sklearn.linear_model import LogisticRegression\n",
    "from sklearn.pipeline import make_pipeline\n",
    "import xgboost as xgb\n",
    "num_trees = 30\n",
    "pipe_lr = make_pipeline(\n",
    "                        StandardScaler(),\n",
    "                        PCA(n_components=2),\n",
    "                        xgb.XGBClassifier(\n",
    "    random_state=1,\n",
    "    n_estimators=num_trees))\n",
    "pipe_lr.fit(x_train, y_train)\n",
    "y_pred = pipe_lr.predict(x_test)\n",
    "\n",
    "print('Test Accuracy: %.3f' % pipe_lr.score(x_test, y_test))"
   ]
  },
  {
   "attachments": {},
   "cell_type": "markdown",
   "metadata": {},
   "source": [
    "Using  cross val score to analyze accuracy over 10 different splits"
   ]
  },
  {
   "cell_type": "code",
   "execution_count": 19,
   "metadata": {},
   "outputs": [
    {
     "name": "stdout",
     "output_type": "stream",
     "text": [
      "CV accuracy scores: [0.86363636 0.90909091 0.90697674 0.90697674 0.90697674 0.88372093\n",
      " 0.90697674 0.90697674 0.8372093  0.88372093]\n"
     ]
    }
   ],
   "source": [
    "from sklearn.model_selection import cross_val_score\n",
    "scores = cross_val_score(estimator=pipe_lr,\n",
    "                         X=x_train,\n",
    "                         y=y_train,\n",
    "                         cv=10,\n",
    "                         n_jobs=1)\n",
    "print('CV accuracy scores: %s' % scores)\n"
   ]
  },
  {
   "attachments": {},
   "cell_type": "markdown",
   "metadata": {},
   "source": [
    "Using SVM"
   ]
  },
  {
   "cell_type": "code",
   "execution_count": 20,
   "metadata": {},
   "outputs": [
    {
     "name": "stdout",
     "output_type": "stream",
     "text": [
      "Test Accuracy: 0.926\n",
      "MAE: 0.07407407407407407\n"
     ]
    }
   ],
   "source": [
    "from sklearn.svm import SVC\n",
    "from sklearn.metrics import mean_absolute_error\n",
    "\n",
    "pipe_lr_1 = make_pipeline(SimpleImputer(strategy='constant'),\n",
    "                          StandardScaler(),\n",
    "                          PCA(n_components=2),\n",
    "                          SVC(\n",
    "    kernel='rbf'))\n",
    "pipe_lr_1.fit(x_train, y_train)\n",
    "y_pred = pipe_lr_1.predict(x_test)\n",
    "\n",
    "print('Test Accuracy: %.3f' % pipe_lr_1.score(x_test, y_test))\n",
    "mae = mean_absolute_error(y_test, y_pred)\n",
    "print('MAE:', mae)"
   ]
  },
  {
   "attachments": {},
   "cell_type": "markdown",
   "metadata": {},
   "source": [
    "Implementing GRID search to utilize best values of parameters and hence improve accuracy"
   ]
  },
  {
   "cell_type": "code",
   "execution_count": 21,
   "metadata": {},
   "outputs": [
    {
     "name": "stdout",
     "output_type": "stream",
     "text": [
      "0.9466701902748413\n",
      "{'svc__C': 100.0, 'svc__gamma': 0.001, 'svc__kernel': 'rbf'}\n"
     ]
    }
   ],
   "source": [
    "from sklearn.model_selection import GridSearchCV\n",
    "from sklearn.svm import SVC\n",
    "pipe_svc = make_pipeline(StandardScaler(),\n",
    "                         SimpleImputer(strategy='constant'),\n",
    "                         SVC(random_state=1))\n",
    "param_range = [0.0001, 0.001, 0.01, 0.1,\n",
    "               1.0, 10.0, 100.0, 1000.0]\n",
    "param_grid = [{'svc__C': param_range,\n",
    "              'svc__kernel': ['linear']},\n",
    "              {'svc__C': param_range,\n",
    "               'svc__gamma': param_range,\n",
    "               'svc__kernel': ['rbf']}]\n",
    "gs = GridSearchCV(estimator=pipe_svc,\n",
    "                  param_grid=param_grid,\n",
    "                  scoring='accuracy',\n",
    "                  cv=10,\n",
    "                  refit=True,\n",
    "                  n_jobs=-1)\n",
    "gs = gs.fit(x_train, y_train)\n",
    "print(gs.best_score_)\n",
    "print(gs.best_params_)\n"
   ]
  },
  {
   "cell_type": "code",
   "execution_count": 22,
   "metadata": {},
   "outputs": [
    {
     "name": "stdout",
     "output_type": "stream",
     "text": [
      "Test accuracy: 0.963\n"
     ]
    }
   ],
   "source": [
    "#test accuracy\n",
    "clf = gs.best_estimator_\n",
    "clf.fit(x_train, y_train)\n",
    "svm_acc =  clf.score(x_test, y_test)\n",
    "print('Test accuracy: %.3f' % clf.score(x_test, y_test))"
   ]
  },
  {
   "attachments": {},
   "cell_type": "markdown",
   "metadata": {},
   "source": [
    "Using Adaboost classifier"
   ]
  },
  {
   "cell_type": "code",
   "execution_count": 23,
   "metadata": {},
   "outputs": [
    {
     "name": "stdout",
     "output_type": "stream",
     "text": [
      "0.9722222222222222\n"
     ]
    }
   ],
   "source": [
    "from sklearn.ensemble import AdaBoostClassifier\n",
    "\n",
    "num_trees = 30\n",
    "\n",
    "model_ada = AdaBoostClassifier(n_estimators=num_trees )\n",
    "model_ada.fit(x_train,y_train)\n",
    "ada_accuracy = model_ada.score(x_test,y_test)\n",
    "print(ada_accuracy)\n"
   ]
  },
  {
   "attachments": {},
   "cell_type": "markdown",
   "metadata": {},
   "source": [
    "Using KNN classifier"
   ]
  },
  {
   "attachments": {},
   "cell_type": "markdown",
   "metadata": {},
   "source": [
    "findiing k value"
   ]
  },
  {
   "cell_type": "code",
   "execution_count": 24,
   "metadata": {},
   "outputs": [
    {
     "data": {
      "text/plain": [
       "10.392304845413264"
      ]
     },
     "execution_count": 24,
     "metadata": {},
     "output_type": "execute_result"
    }
   ],
   "source": [
    "import math\n",
    "math.sqrt(len(y_test))"
   ]
  },
  {
   "attachments": {},
   "cell_type": "markdown",
   "metadata": {},
   "source": [
    "Hyperparameter tuning of k value in knn classifier"
   ]
  },
  {
   "cell_type": "code",
   "execution_count": 25,
   "metadata": {},
   "outputs": [
    {
     "data": {
      "text/plain": [
       "\"\\nleaf_size = list(range(1,50))\\nn_neighbors = list(range(1,30))\\np = [1,2]\\n\\nhyperparameters = dict(leaf_size = leaf_size, n_neighbors = n_neighbors, p =p)\\n\\nknn_2 = KNeighborsClassifier()\\n\\nclf = GridSearchCV(knn_2, hyperparameters,cv=10)\\n\\nbest_model = clf.fit(x_train,y_train)\\n\\n\\nprint('Best leaf_size:', best_model.best_estimator_.get_params()['leaf_size'])\\nprint('Best p:', best_model.best_estimator_.get_params()['p'])\\nprint('Best n_neighbors:', best_model.best_estimator_.get_params()['n_neighbors'])\\n\""
      ]
     },
     "execution_count": 25,
     "metadata": {},
     "output_type": "execute_result"
    }
   ],
   "source": [
    "\n",
    "from sklearn.neighbors import KNeighborsClassifier\n",
    "from sklearn.model_selection import GridSearchCV\n",
    "'''\n",
    "leaf_size = list(range(1,50))\n",
    "n_neighbors = list(range(1,30))\n",
    "p = [1,2]\n",
    "\n",
    "hyperparameters = dict(leaf_size = leaf_size, n_neighbors = n_neighbors, p =p)\n",
    "\n",
    "knn_2 = KNeighborsClassifier()\n",
    "\n",
    "clf = GridSearchCV(knn_2, hyperparameters,cv=10)\n",
    "\n",
    "best_model = clf.fit(x_train,y_train)\n",
    "\n",
    "\n",
    "print('Best leaf_size:', best_model.best_estimator_.get_params()['leaf_size'])\n",
    "print('Best p:', best_model.best_estimator_.get_params()['p'])\n",
    "print('Best n_neighbors:', best_model.best_estimator_.get_params()['n_neighbors'])\n",
    "'''\n",
    "\n"
   ]
  },
  {
   "cell_type": "code",
   "execution_count": 26,
   "metadata": {},
   "outputs": [
    {
     "name": "stdout",
     "output_type": "stream",
     "text": [
      "0.9259259259259259\n"
     ]
    }
   ],
   "source": [
    "#without tuning\n",
    "classifier = KNeighborsClassifier(n_neighbors=9,p=2,metric='euclidean')\n",
    "classifier.fit(x_train,y_train)\n",
    "y_pred = classifier.predict(x_test)\n",
    "print(accuracy_score(y_test,y_pred))\n"
   ]
  },
  {
   "attachments": {},
   "cell_type": "markdown",
   "metadata": {},
   "source": [
    "Using Bagging to demonstrate results of different base models"
   ]
  },
  {
   "cell_type": "code",
   "execution_count": 27,
   "metadata": {},
   "outputs": [],
   "source": [
    "from sklearn.ensemble import BaggingClassifier"
   ]
  },
  {
   "attachments": {},
   "cell_type": "markdown",
   "metadata": {},
   "source": [
    "For KNN as base classifier"
   ]
  },
  {
   "cell_type": "code",
   "execution_count": 28,
   "metadata": {},
   "outputs": [
    {
     "data": {
      "text/plain": [
       "0.9259259259259259"
      ]
     },
     "execution_count": 28,
     "metadata": {},
     "output_type": "execute_result"
    }
   ],
   "source": [
    "bagging_knn = BaggingClassifier(estimator=KNeighborsClassifier(), max_samples=0.5, max_features=0.5,bootstrap=False, bootstrap_features=False)\n",
    "\n",
    "bagging_knn.fit(x_train,y_train)\n",
    "bg_preds = bagging_knn.predict(x_test)\n",
    "bg_knn_score = bagging_knn.score(x_test,y_test)\n",
    "bagging_knn.score(x_test,y_test)"
   ]
  },
  {
   "attachments": {},
   "cell_type": "markdown",
   "metadata": {},
   "source": [
    "Comparing Accuracies"
   ]
  },
  {
   "cell_type": "code",
   "execution_count": 29,
   "metadata": {},
   "outputs": [
    {
     "data": {
      "text/html": [
       "<div>\n",
       "<style scoped>\n",
       "    .dataframe tbody tr th:only-of-type {\n",
       "        vertical-align: middle;\n",
       "    }\n",
       "\n",
       "    .dataframe tbody tr th {\n",
       "        vertical-align: top;\n",
       "    }\n",
       "\n",
       "    .dataframe thead th {\n",
       "        text-align: right;\n",
       "    }\n",
       "</style>\n",
       "<table border=\"1\" class=\"dataframe\">\n",
       "  <thead>\n",
       "    <tr style=\"text-align: right;\">\n",
       "      <th></th>\n",
       "      <th>Model</th>\n",
       "      <th>accuracy</th>\n",
       "    </tr>\n",
       "  </thead>\n",
       "  <tbody>\n",
       "    <tr>\n",
       "      <th>0</th>\n",
       "      <td>Adaboost</td>\n",
       "      <td>0.972222</td>\n",
       "    </tr>\n",
       "    <tr>\n",
       "      <th>1</th>\n",
       "      <td>Decision tree</td>\n",
       "      <td>0.944444</td>\n",
       "    </tr>\n",
       "    <tr>\n",
       "      <th>2</th>\n",
       "      <td>Bagging_KNeighbors</td>\n",
       "      <td>0.925926</td>\n",
       "    </tr>\n",
       "    <tr>\n",
       "      <th>3</th>\n",
       "      <td>Tuned_SVM</td>\n",
       "      <td>0.962963</td>\n",
       "    </tr>\n",
       "  </tbody>\n",
       "</table>\n",
       "</div>"
      ],
      "text/plain": [
       "                Model  accuracy\n",
       "0            Adaboost  0.972222\n",
       "1       Decision tree  0.944444\n",
       "2  Bagging_KNeighbors  0.925926\n",
       "3           Tuned_SVM  0.962963"
      ]
     },
     "execution_count": 29,
     "metadata": {},
     "output_type": "execute_result"
    }
   ],
   "source": [
    "d = {'Model': [ 'Adaboost', 'Decision tree', 'Bagging_KNeighbors',' Tuned_SVM'],\n",
    "     'accuracy' : [ada_accuracy, best_dt_accuracy, bg_knn_score,svm_acc]}\n",
    "\n",
    "result_df = pd.DataFrame(data = d)\n",
    "result_df"
   ]
  },
  {
   "cell_type": "code",
   "execution_count": 30,
   "metadata": {},
   "outputs": [
    {
     "data": {
      "text/plain": [
       "<AxesSubplot:title={'center':'Cloud Simulation Crash Prediction'}, xlabel='Model'>"
      ]
     },
     "execution_count": 30,
     "metadata": {},
     "output_type": "execute_result"
    },
    {
     "data": {
      "image/png": "[encoded data removed]",
      "text/plain": [
       "<Figure size 576x576 with 1 Axes>"
      ]
     },
     "metadata": {
      "needs_background": "light"
     },
     "output_type": "display_data"
    }
   ],
   "source": [
    "result_df.plot(x='Model', y='accuracy', kind='bar', figsize=(8, 8), title='Cloud Simulation Crash Prediction', \n",
    "               sort_columns=True)"
   ]
  },
  {
   "attachments": {},
   "cell_type": "markdown",
   "metadata": {},
   "source": [
    "Majority Voting Ensemble learning "
   ]
  },
  {
   "cell_type": "code",
   "execution_count": 31,
   "metadata": {},
   "outputs": [
    {
     "name": "stdout",
     "output_type": "stream",
     "text": [
      "Hard Voting Score  0\n",
      "Hard voting  accuracy: 94%\n",
      "Soft Voting Score  0\n",
      "Soft voting  accuracy: 94%\n"
     ]
    }
   ],
   "source": [
    "from sklearn.ensemble import VotingClassifier\n",
    "from sklearn import model_selection\n",
    "from sklearn.linear_model import LogisticRegression\n",
    "from sklearn.neighbors import KNeighborsClassifier\n",
    "\n",
    "estimator = []\n",
    "estimator.append(('LR', \n",
    "                  LogisticRegression(solver ='lbfgs', \n",
    "                                     multi_class ='multinomial', \n",
    "                                     max_iter = 200)))\n",
    "estimator.append(('KNN', KNeighborsClassifier()))\n",
    "estimator.append(('DTC', DecisionTreeClassifier()))\n",
    "# HARD voting\n",
    "vot_hard = VotingClassifier(estimators=estimator, voting='hard')\n",
    "vot_hard.fit(x_train, y_train)\n",
    "y_pred  = vot_hard.predict(x_test)\n",
    "hard_vote_acc = accuracy_score(y_test, y_pred)\n",
    "\n",
    "print(\"Hard Voting Score % d\" % hard_vote_acc)\n",
    "print(f\"Hard voting  accuracy: {round(hard_vote_acc * 100)}%\")\n",
    "\n",
    "# SOFT voting \n",
    "vot_soft = VotingClassifier(estimators=estimator,voting='soft')\n",
    "vot_soft.fit(x_train,y_train)\n",
    "y_pred = vot_soft.predict(x_test) \n",
    "soft_vote_acc = accuracy_score(y_test, y_pred)\n",
    "\n",
    "print(\"Soft Voting Score % d\" % soft_vote_acc)\n",
    "print(f\"Soft voting  accuracy: {round(soft_vote_acc * 100)}%\")"
   ]
  },
  {
   "attachments": {},
   "cell_type": "markdown",
   "metadata": {},
   "source": [
    "5-cross validation of 3 classifiers"
   ]
  },
  {
   "cell_type": "code",
   "execution_count": 32,
   "metadata": {},
   "outputs": [
    {
     "name": "stdout",
     "output_type": "stream",
     "text": [
      "5-cross validation :\n",
      "\n",
      "Accuracy: 0.93 (+/- 0.01) [LogisticRegression]\n",
      "Accuracy: 0.89 (+/- 0.03) [DecisionTreeClassifier]\n",
      "Accuracy: 0.91 (+/- 0.01) [KNN]\n"
     ]
    }
   ],
   "source": [
    "from sklearn import model_selection\n",
    "clf1 = LogisticRegression(random_state=1,max_iter = 500)\n",
    "clf2 = DecisionTreeClassifier(random_state=1)\n",
    "clf3 = KNeighborsClassifier()\n",
    "print('5-cross validation :\\n')\n",
    "labels = ['LogisticRegression', 'DecisionTreeClassifier', 'KNN']\n",
    "for clf ,label in zip([clf1,clf2,clf3], labels):\n",
    "    scores = model_selection.cross_val_score(clf,x_train,y_train,\n",
    "                                             cv=5,\n",
    "                                             scoring='accuracy')\n",
    "    print(\"Accuracy: %0.2f (+/- %0.2f) [%s]\" % (scores.mean(), scores.std(), label))"
   ]
  },
  {
   "attachments": {},
   "cell_type": "markdown",
   "metadata": {},
   "source": [
    "Ensemble Voting Classifier"
   ]
  },
  {
   "cell_type": "code",
   "execution_count": 33,
   "metadata": {},
   "outputs": [
    {
     "name": "stdout",
     "output_type": "stream",
     "text": [
      "Accuracy: 0.93 (+/- 0.01) [Logistic Regression]\n",
      "Accuracy: 0.89 (+/- 0.03) [Random Forest]\n",
      "Accuracy: 0.91 (+/- 0.01) [Naive Bayes]\n",
      "Accuracy: 0.93 (+/- 0.01) [Ensemble]\n"
     ]
    }
   ],
   "source": [
    "from mlxtend.classifier import EnsembleVoteClassifier\n",
    "\n",
    "eclf = EnsembleVoteClassifier(clfs=[clf1, clf2, clf3], weights=[1,1,1])\n",
    "\n",
    "labels = ['Logistic Regression', 'Random Forest', 'Naive Bayes', 'Ensemble']\n",
    "for clf, label in zip([clf1, clf2, clf3, eclf], labels):\n",
    "\n",
    "    scores = model_selection.cross_val_score(clf, x_train, y_train, \n",
    "                                              cv=5, \n",
    "                                              scoring='accuracy')\n",
    "    print(\"Accuracy: %0.2f (+/- %0.2f) [%s]\" \n",
    "          % (scores.mean(), scores.std(), label))"
   ]
  },
  {
   "attachments": {},
   "cell_type": "markdown",
   "metadata": {},
   "source": [
    "We can see ensemble model provides better result than any model individually"
   ]
  },
  {
   "attachments": {},
   "cell_type": "markdown",
   "metadata": {},
   "source": [
    "C parameter of Logistic Regression tuning through grid search"
   ]
  },
  {
   "cell_type": "code",
   "execution_count": 34,
   "metadata": {},
   "outputs": [
    {
     "name": "stdout",
     "output_type": "stream",
     "text": [
      "0.931 +/- 0.01 {'logisticregression__C': 1.0}\n",
      "0.935 +/- 0.01 {'logisticregression__C': 100.0}\n"
     ]
    }
   ],
   "source": [
    "from sklearn.model_selection import GridSearchCV\n",
    "eclf = EnsembleVoteClassifier(clfs=[clf1,clf2,clf3], voting='soft')\n",
    "params = {'logisticregression__C' : [1.0 , 100.0]\n",
    "           }\n",
    "grid = GridSearchCV(estimator=eclf , param_grid=params,cv=5)\n",
    "grid.fit(x_train,y_train)\n",
    "\n",
    "cv_keys = ('mean_test_score', 'std_test_score', 'params')\n",
    "for r, _ in enumerate(grid.cv_results_['mean_test_score']):\n",
    "    print(\"%0.3f +/- %0.2f %r\"\n",
    "          % (grid.cv_results_[cv_keys[0]][r],\n",
    "             grid.cv_results_[cv_keys[1]][r] / 2.0,\n",
    "             grid.cv_results_[cv_keys[2]][r]))"
   ]
  },
  {
   "attachments": {},
   "cell_type": "markdown",
   "metadata": {},
   "source": [
    "Creating the web application of the model"
   ]
  },
  {
   "cell_type": "code",
   "execution_count": 1,
   "metadata": {},
   "outputs": [],
   "source": [
    "import pickle"
   ]
  },
  {
   "cell_type": "code",
   "execution_count": null,
   "metadata": {},
   "outputs": [],
   "source": [
    "with open('model.ipynb', 'wb') as file:\n",
    "pickle.dump(model_dt, file)"
   ]
  }
 ],
 "metadata": {
  "kernelspec": {
   "display_name": "Python 3",
   "language": "python",
   "name": "python3"
  },
  "language_info": {
   "codemirror_mode": {
    "name": "ipython",
    "version": 3
   },
   "file_extension": ".py",
   "mimetype": "text/x-python",
   "name": "python",
   "nbconvert_exporter": "python",
   "pygments_lexer": "ipython3",
   "version": "3.10.0"
  },
  "orig_nbformat": 4,
  "vscode": {
   "interpreter": {
    "hash": "369f2c481f4da34e4445cda3fffd2e751bd1c4d706f27375911949ba6bb62e1c"
   }
  }
 },
 "nbformat": 4,
 "nbformat_minor": 2
}
